import tensorflow as tf
import numpy as np
from tensorflow import keras

# GRADED FUNCTION: house_model
def house_model(y_new):
    xs = np.array([1.0, 2.0, 3.0, 5.0, 11.0], dtype=float)
    ys = np.array([10.0, 15.0, 20.0, 30.0, 60.0], dtype=float)
    model = keras.Sequential([keras.layers.Dense(units=1, input_shape=[1])])
    model.compile(optimizer='sgd', loss='mean_squared_error')
    model.fit(xs, ys, epochs=200) 
    return model.predict(y_new)[0] * 100000

prediction = house_model([7.0])
print(prediction)
