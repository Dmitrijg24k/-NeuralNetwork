{
  "nbformat": 4,
  "nbformat_minor": 0,
  "metadata": {
    "colab": {
      "name": "Untitled0.ipynb",
      "provenance": [],
      "authorship_tag": "ABX9TyPQO7Q+FeOUoMu4B2JLt+bx",
      "include_colab_link": true
    },
    "kernelspec": {
      "name": "python3",
      "display_name": "Python 3"
    }
  },
  "cells": [
    {
      "cell_type": "markdown",
      "metadata": {
        "id": "view-in-github",
        "colab_type": "text"
      },
      "source": [
        "<a href=\"https://colab.research.google.com/github/Dmitrijg24k/-NeuralNetwork/blob/main/ConvMnist.ipynb\" target=\"_parent\"><img src=\"https://colab.research.google.com/assets/colab-badge.svg\" alt=\"Open In Colab\"/></a>"
      ]
    },
    {
      "cell_type": "code",
      "metadata": {
        "colab": {
          "base_uri": "https://localhost:8080/"
        },
        "id": "atCG5FV_gJUp",
        "outputId": "dcbb9695-d62a-4776-8b78-b6dad1082f87"
      },
      "source": [
        "import tensorflow as tf\r\n",
        "import numpy as np\r\n",
        "from tensorflow import keras\r\n",
        "\r\n",
        "\r\n",
        "class myCallback(tf.keras.callbacks.Callback):\r\n",
        "    def on_epoch_end(self, epoch, logs={}):\r\n",
        "        if(logs.get('acc')>=0.998):\r\n",
        "            print(\"Достигнута точность 99%, поэтому обучение закончено!\")\r\n",
        "            self.model.stop_training = True\r\n",
        "\r\n",
        "def train_mnist_conv():\r\n",
        "    mnist = tf.keras.datasets.mnist\r\n",
        "    (training_images, training_labels), (test_images, test_labels) = mnist.load_data()\r\n",
        "\r\n",
        "    training_images=training_images.reshape(60000, 28, 28, 1)\r\n",
        "    training_images=training_images / 255.0\r\n",
        "    test_images = test_images.reshape(10000, 28, 28, 1)\r\n",
        "    test_images=test_images/255.0\r\n",
        "\r\n",
        "    callbacks = myCallback()\r\n",
        "\r\n",
        "    model = tf.keras.models.Sequential([\r\n",
        "        tf.keras.layers.Conv2D(64, (3,3), activation='relu', input_shape=(28, 28, 1)),\r\n",
        "        tf.keras.layers.MaxPooling2D(2, 2),\r\n",
        "        tf.keras.layers.Flatten(),\r\n",
        "        tf.keras.layers.Dense(128, activation='relu'),\r\n",
        "        tf.keras.layers.Dense(10, activation='softmax')\r\n",
        "    ])\r\n",
        "\r\n",
        "    model.compile(optimizer='adam', loss='sparse_categorical_crossentropy', metrics=['acc'])\r\n",
        "    # model fitting\r\n",
        "    history = model.fit(training_images, training_labels, epochs=19, callbacks=[callbacks])\r\n",
        "\r\n",
        "    return history.epoch, history.history['acc'][-1]\r\n",
        "\r\n",
        "_, _ =train_mnist_conv()"
      ],
      "execution_count": 1,
      "outputs": [
        {
          "output_type": "stream",
          "text": [
            "Downloading data from https://storage.googleapis.com/tensorflow/tf-keras-datasets/mnist.npz\n",
            "11493376/11490434 [==============================] - 0s 0us/step\n",
            "Epoch 1/19\n",
            "1875/1875 [==============================] - 56s 30ms/step - loss: 0.2630 - acc: 0.9202\n",
            "Epoch 2/19\n",
            "1875/1875 [==============================] - 55s 29ms/step - loss: 0.0461 - acc: 0.9859\n",
            "Epoch 3/19\n",
            "1875/1875 [==============================] - 56s 30ms/step - loss: 0.0278 - acc: 0.9912\n",
            "Epoch 4/19\n",
            "1875/1875 [==============================] - 55s 29ms/step - loss: 0.0154 - acc: 0.9951\n",
            "Epoch 5/19\n",
            "1875/1875 [==============================] - 55s 29ms/step - loss: 0.0096 - acc: 0.9973\n",
            "Epoch 6/19\n",
            "1875/1875 [==============================] - 55s 29ms/step - loss: 0.0075 - acc: 0.9975\n",
            "Epoch 7/19\n",
            "1875/1875 [==============================] - 55s 29ms/step - loss: 0.0060 - acc: 0.9978\n",
            "Epoch 8/19\n",
            "1875/1875 [==============================] - 55s 29ms/step - loss: 0.0057 - acc: 0.9981\n",
            "Достигнута точность 99%, поэтому обучение закончено!\n"
          ],
          "name": "stdout"
        }
      ]
    }
  ]
}