{
  "nbformat": 4,
  "nbformat_minor": 0,
  "metadata": {
    "colab": {
      "name": "Untitled2.ipynb",
      "provenance": [],
      "authorship_tag": "ABX9TyMvNs4IGbl9OTiYrUEHUcMC",
      "include_colab_link": true
    },
    "kernelspec": {
      "name": "python3",
      "display_name": "Python 3"
    }
  },
  "cells": [
    {
      "cell_type": "markdown",
      "metadata": {
        "id": "view-in-github",
        "colab_type": "text"
      },
      "source": [
        "<a href=\"https://colab.research.google.com/github/Dmitrijg24k/-NeuralNetwork/blob/main/mnist2.ipynb\" target=\"_parent\"><img src=\"https://colab.research.google.com/assets/colab-badge.svg\" alt=\"Open In Colab\"/></a>"
      ]
    },
    {
      "cell_type": "code",
      "metadata": {
        "colab": {
          "base_uri": "https://localhost:8080/"
        },
        "id": "KnjzjVcusz42",
        "outputId": "cb50553a-b73a-4ddd-f500-8ffe7b3fedd9"
      },
      "source": [
        "import tensorflow as tf\r\n",
        "import numpy as np\r\n",
        "from tensorflow import keras\r\n",
        "\r\n",
        "class myCallback(tf.keras.callbacks.Callback):\r\n",
        "    def on_epoch_end(self, epoch, logs={}):\r\n",
        "        if(logs.get('acc')>=0.99):\r\n",
        "            print(\"Достигнута точность 99%, поэтому обучение закончено!\")\r\n",
        "            self.model.stop_training = True\r\n",
        "\r\n",
        "def train_mnist():\r\n",
        "\r\n",
        "    # YOUR CODE SHOULD START HERE\r\n",
        "    # YOUR CODE SHOULD END HERE\r\n",
        "    import tensorflow as tf\r\n",
        "    mnist = tf.keras.datasets.mnist\r\n",
        "\r\n",
        "    (x_train, y_train),(x_test, y_test) = mnist.load_data()\r\n",
        "    x_train, x_test = x_train / 255.0, x_test / 255.0\r\n",
        "    \r\n",
        "    callbacks = myCallback()\r\n",
        "\r\n",
        "    model = tf.keras.models.Sequential([\r\n",
        "        keras.layers.Flatten(input_shape=(28, 28)),\r\n",
        "        keras.layers.Dense(512, activation=tf.nn.relu),\r\n",
        "        keras.layers.Dense(10, activation=tf.nn.softmax)\r\n",
        "    ])\r\n",
        "\r\n",
        "    model.compile(optimizer='adam',\r\n",
        "                  loss='sparse_categorical_crossentropy',\r\n",
        "                  metrics=['acc'])\r\n",
        "    \r\n",
        "    model.fit(x_train, y_train, epochs=10, callbacks=[callbacks])\r\n",
        "\r\n",
        "    return 1\r\n",
        "\r\n",
        "train_mnist()"
      ],
      "execution_count": 1,
      "outputs": [
        {
          "output_type": "stream",
          "text": [
            "Downloading data from https://storage.googleapis.com/tensorflow/tf-keras-datasets/mnist.npz\n",
            "11493376/11490434 [==============================] - 0s 0us/step\n",
            "Epoch 1/10\n",
            "1875/1875 [==============================] - 9s 4ms/step - loss: 0.3446 - acc: 0.8993\n",
            "Epoch 2/10\n",
            "1875/1875 [==============================] - 8s 4ms/step - loss: 0.0852 - acc: 0.9736\n",
            "Epoch 3/10\n",
            "1875/1875 [==============================] - 8s 4ms/step - loss: 0.0526 - acc: 0.9844\n",
            "Epoch 4/10\n",
            "1875/1875 [==============================] - 8s 4ms/step - loss: 0.0348 - acc: 0.9893\n",
            "Epoch 5/10\n",
            "1875/1875 [==============================] - 8s 4ms/step - loss: 0.0242 - acc: 0.9925\n",
            "Достигнута точность 99%, поэтому обучение закончено!\n"
          ],
          "name": "stdout"
        },
        {
          "output_type": "execute_result",
          "data": {
            "text/plain": [
              "1"
            ]
          },
          "metadata": {
            "tags": []
          },
          "execution_count": 1
        }
      ]
    }
  ]
}