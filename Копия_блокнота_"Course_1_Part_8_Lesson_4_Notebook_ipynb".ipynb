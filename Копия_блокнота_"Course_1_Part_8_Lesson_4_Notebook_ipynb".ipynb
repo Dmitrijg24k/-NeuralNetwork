{
  "nbformat": 4,
  "nbformat_minor": 0,
  "metadata": {
    "colab": {
      "name": "Копия блокнота \"Course 1 - Part 8 - Lesson 4 - Notebook.ipynb\"",
      "provenance": [],
      "collapsed_sections": [],
      "toc_visible": true,
      "include_colab_link": true
    },
    "kernelspec": {
      "name": "python3",
      "display_name": "Python 3"
    },
    "accelerator": "GPU"
  },
  "cells": [
    {
      "cell_type": "markdown",
      "metadata": {
        "id": "view-in-github",
        "colab_type": "text"
      },
      "source": [
        "<a href=\"https://colab.research.google.com/github/Dmitrijg24k/-NeuralNetwork/blob/main/%D0%9A%D0%BE%D0%BF%D0%B8%D1%8F_%D0%B1%D0%BB%D0%BE%D0%BA%D0%BD%D0%BE%D1%82%D0%B0_%22Course_1_Part_8_Lesson_4_Notebook_ipynb%22.ipynb\" target=\"_parent\"><img src=\"https://colab.research.google.com/assets/colab-badge.svg\" alt=\"Open In Colab\"/></a>"
      ]
    },
    {
      "cell_type": "code",
      "metadata": {
        "id": "RXZT2UsyIVe_",
        "colab": {
          "base_uri": "https://localhost:8080/"
        },
        "outputId": "575202f1-63ce-4285-d259-0dd77d0a464b"
      },
      "source": [
        "!wget --no-check-certificate \\\n",
        "    https://storage.googleapis.com/mledu-datasets/cats_and_dogs_filtered.zip \\\n",
        "    -O /tmp/cats_and_dogs_filtered.zip"
      ],
      "execution_count": null,
      "outputs": [
        {
          "output_type": "stream",
          "text": [
            "--2021-02-07 07:35:09--  https://storage.googleapis.com/mledu-datasets/cats_and_dogs_filtered.zip\n",
            "Resolving storage.googleapis.com (storage.googleapis.com)... 172.217.15.112, 172.217.164.176, 172.217.2.112, ...\n",
            "Connecting to storage.googleapis.com (storage.googleapis.com)|172.217.15.112|:443... connected.\n",
            "HTTP request sent, awaiting response... 200 OK\n",
            "Length: 68606236 (65M) [application/zip]\n",
            "Saving to: ‘/tmp/cats_and_dogs_filtered.zip’\n",
            "\n",
            "/tmp/cats_and_dogs_ 100%[===================>]  65.43M   321MB/s    in 0.2s    \n",
            "\n",
            "2021-02-07 07:35:10 (321 MB/s) - ‘/tmp/cats_and_dogs_filtered.zip’ saved [68606236/68606236]\n",
            "\n"
          ],
          "name": "stdout"
        }
      ]
    },
    {
      "cell_type": "code",
      "metadata": {
        "id": "0mLij6qde6Ox"
      },
      "source": [
        "!wget --no-check-certificate \\\n",
        "    https://storage.googleapis.com/laurencemoroney-blog.appspot.com/validation-horse-or-human.zip \\\n",
        "    -O /tmp/validation-horse-or-human.zip"
      ],
      "execution_count": null,
      "outputs": []
    },
    {
      "cell_type": "markdown",
      "metadata": {
        "id": "9brUxyTpYZHy"
      },
      "source": [
        "Следующий код Python будет использовать библиотеку ОС для использования библиотек операционной системы, предоставляя вам доступ к файловой системе и библиотеке zipfile, позволяющей распаковать данные. "
      ]
    },
    {
      "cell_type": "code",
      "metadata": {
        "id": "PLy3pthUS0D2"
      },
      "source": [
        "import os\n",
        "import zipfile\n",
        "\n",
        "local_zip = '/tmp/cats_and_dogs_filtered.zip'\n",
        "zip_ref = zipfile.ZipFile(local_zip, 'r')\n",
        "zip_ref.extractall('/tmp')\n",
        "zip_ref.close()"
      ],
      "execution_count": null,
      "outputs": []
    },
    {
      "cell_type": "markdown",
      "metadata": {
        "id": "o-qUPyfO7Qr8"
      },
      "source": [
        "Содержимое .zip извлекается в базовый каталог `/tmp/horse-or-human`, каждый из которых, в свою очередь, содержит подкаталоги лошадей и людей.\n",
        "\n",
        "В этом примере нужно обратить внимание на одну вещь: мы не обозначаем изображения явно как лошади или люди. Если вы помните в примере рукописных цифр ранее, мы пометили «это 1», «это 7» и т. Д. Позже вы увидите, что используется нечто, называемое ImageGenerator - он читает изображения из подкаталогов и сразу помечает их именами этого подкаталога. Так, например, у вас будет каталог 'training', содержащий каталог 'horse' и каталог 'people'. ImageGenerator создает массив данных из изображений, размеченными в соответствии с этими названиями, сокращая этап кодирования.\n",
        "\n",
        "Давайте определим каждый из этих каталогов:"
      ]
    },
    {
      "cell_type": "code",
      "metadata": {
        "id": "NR_M9nWN-K8B"
      },
      "source": [
        "train_dir = os.path.join('/tmp/cats_and_dogs_filtered/train')\n",
        "validation_dir = os.path.join('/tmp/cats_and_dogs_filtered/validation')\n",
        "train_cats_dir = os.path.join('/tmp/cats_and_dogs_filtered/train/cats')\n",
        "train_dogs_dir = os.path.join('/tmp/cats_and_dogs_filtered/train/dogs')\n",
        "validation_cats_dir = os.path.join('/tmp/cats_and_dogs_filtered/validation/cats')\n",
        "validation_dogs_dir = os.path.join('/tmp/cats_and_dogs_filtered/validation/dogs')"
      ],
      "execution_count": null,
      "outputs": []
    },
    {
      "cell_type": "markdown",
      "metadata": {
        "id": "FP1SjhyJ7cyf"
      },
      "source": [
        "Теперь давайте посмотрим, как выглядят имена файлов в каталогах обучения horses и humans и сколько там всего файлов:"
      ]
    },
    {
      "cell_type": "code",
      "metadata": {
        "id": "XPdTsF_H7klu",
        "colab": {
          "base_uri": "https://localhost:8080/"
        },
        "outputId": "3bf48a72-b8cd-4947-dc18-7288d442bee7"
      },
      "source": [
        "train_cats_names = os.listdir(train_cats_dir)\n",
        "print(train_cats_names[:10])\n",
        "print('total training cats images:', len(os.listdir(train_cats_dir)))\n",
        "\n",
        "train_dogs_names = os.listdir(train_dogs_dir)\n",
        "print(train_dogs_names[:10])\n",
        "print('total training dogs images:', len(os.listdir(train_dogs_dir)))"
      ],
      "execution_count": null,
      "outputs": [
        {
          "output_type": "stream",
          "text": [
            "['cat.3.jpg', 'cat.313.jpg', 'cat.933.jpg', 'cat.916.jpg', 'cat.82.jpg', 'cat.75.jpg', 'cat.660.jpg', 'cat.371.jpg', 'cat.996.jpg', 'cat.846.jpg']\n",
            "total training cats images: 1000\n",
            "['dog.715.jpg', 'dog.717.jpg', 'dog.949.jpg', 'dog.861.jpg', 'dog.341.jpg', 'dog.469.jpg', 'dog.566.jpg', 'dog.265.jpg', 'dog.711.jpg', 'dog.448.jpg']\n",
            "total training dogs images: 1000\n"
          ],
          "name": "stdout"
        }
      ]
    },
    {
      "cell_type": "code",
      "metadata": {
        "id": "NqInfZzgeGGF"
      },
      "source": [
        "# Установите Matplotlib fig и его размер, чтобы вывести 4x4 картинок\n",
        "%matplotlib inline\n",
        "\n",
        "import matplotlib.pyplot as plt\n",
        "import matplotlib.image as mpimg\n",
        "\n",
        "# Параметры для нашего графика; Мы будем выводить изображения в конфигурации 4х4\n",
        "nrows = 4\n",
        "ncols = 4\n",
        "\n",
        "# Index for iterating over images\n",
        "pic_index = 0"
      ],
      "execution_count": null,
      "outputs": []
    },
    {
      "cell_type": "markdown",
      "metadata": {
        "id": "DkXfLJHW8WVs"
      },
      "source": [
        "Теперь покажите пакет из 8 изображений лошадей и 8 человек. Каждый раз, запуская эту ячейку вы увидите новый пакет:"
      ]
    },
    {
      "cell_type": "code",
      "metadata": {
        "id": "shGtinzT8Z6M"
      },
      "source": [
        "\n",
        "fig = plt.gcf()\n",
        "fig.set_size_inches(ncols * 4, nrows * 4)\n",
        "\n",
        "pic_index += 8\n",
        "next_horse_pix = [os.path.join(train_horse_dir, fname) \n",
        "                for fname in train_horse_names[pic_index-8:pic_index]]\n",
        "next_human_pix = [os.path.join(train_human_dir, fname) \n",
        "                for fname in train_human_names[pic_index-8:pic_index]]\n",
        "\n",
        "for i, img_path in enumerate(next_horse_pix+next_human_pix):\n",
        "  # Set up subplot; Индексы subplot начинаются с 1\n",
        "  sp = plt.subplot(nrows, ncols, i + 1)\n",
        "  sp.axis('Off') # Не показывать оси (или линии сетки)\n",
        "\n",
        "  img = mpimg.imread(img_path)\n",
        "  plt.imshow(img)\n",
        "\n",
        "plt.show()"
      ],
      "execution_count": null,
      "outputs": []
    },
    {
      "cell_type": "markdown",
      "metadata": {
        "id": "5oqBkNBJmtUv"
      },
      "source": [
        "##Создание маленькой модели с нуля\n",
        "Но прежде чем мы продолжим, давайте определим модель:\n",
        "\n",
        "Шаг 1 импортируем tensorflow."
      ]
    },
    {
      "cell_type": "code",
      "metadata": {
        "id": "qvfZg3LQbD-5"
      },
      "source": [
        "import tensorflow as tf"
      ],
      "execution_count": null,
      "outputs": []
    },
    {
      "cell_type": "markdown",
      "metadata": {
        "id": "BnhYCP4tdqjC"
      },
      "source": [
        "Затем мы добавляем сверточные слои, как в предыдущем примере, и вытягиваем конечный результат в одномерный массив для подачи в полносвязные слои.\n",
        "\n",
        "Наконец мы добавляем плотно связанные слои.\n"
      ]
    },
    {
      "cell_type": "markdown",
      "metadata": {
        "id": "gokG5HKpdtzm"
      },
      "source": [
        "Обратите внимание, что, поскольку мы сталкиваемся с проблемой классификации двух классов, то есть проблемой двоичной классификации, мы завершим нашу сеть с помощью функции активации [*sigmoid* activation](https://wikipedia.org/wiki/Sigmoid_function), так что выход нашей сети - это один скаляр от 0 до 1, показывающий вероятность того, что текущее изображение относится к классу 1 (в противоположность классу 0)."
      ]
    },
    {
      "cell_type": "code",
      "metadata": {
        "id": "PixZ2s5QbYQ3"
      },
      "source": [
        "model = tf.keras.models.Sequential([\n",
        "    # Обратите внимание, что входной формой является желаемый размер изображения 150x150 с 3 байтами цвета\n",
        "    # This is the first convolution\n",
        "    tf.keras.layers.Conv2D(32, (3,3), activation='relu', input_shape=(150, 150, 3)),\n",
        "    tf.keras.layers.MaxPooling2D(2, 2),\n",
        "    # The second convolution\n",
        "    tf.keras.layers.Conv2D(64, (3,3), activation='relu'),\n",
        "    tf.keras.layers.MaxPooling2D(2,2),\n",
        "    # The third convolution\n",
        "    tf.keras.layers.Conv2D(128, (3,3), activation='relu'),\n",
        "    tf.keras.layers.MaxPooling2D(2,2),\n",
        "    # The fourth convolution\n",
        "    tf.keras.layers.Conv2D(128, (3,3), activation='relu'),\n",
        "    tf.keras.layers.MaxPooling2D(2,2),\n",
        "    # The fifth convolution\n",
        "    #tf.keras.layers.Conv2D(64, (3,3), activation='relu'),\n",
        "    #tf.keras.layers.MaxPooling2D(2,2),\n",
        "    # Flatten the results to feed into a DNN\n",
        "    tf.keras.layers.Flatten(),\n",
        "    # 512 neuron hidden layer\n",
        "    tf.keras.layers.Dense(512, activation='relu'),\n",
        "    # Только 1 выходной нейрон. Он будет содержать значение от 0 до 1, где 0 для 1 класса («лошади») и 1 для другого («люди»)\n",
        "    tf.keras.layers.Dense(1, activation='sigmoid')\n",
        "])"
      ],
      "execution_count": null,
      "outputs": []
    },
    {
      "cell_type": "markdown",
      "metadata": {
        "id": "s9EaFDP5srBa"
      },
      "source": [
        "\n",
        "метод model.summary() печатает сводку нашей нейронной сети"
      ]
    },
    {
      "cell_type": "code",
      "metadata": {
        "id": "7ZKj8392nbgP"
      },
      "source": [
        "model.summary()"
      ],
      "execution_count": null,
      "outputs": []
    },
    {
      "cell_type": "markdown",
      "metadata": {
        "id": "DmtkTn06pKxF"
      },
      "source": [
        "The \"output shape\" column shows how the size of your feature map evolves in each successive layer. The convolution layers reduce the size of the feature maps by a bit due to padding, and each pooling layer halves the dimensions."
      ]
    },
    {
      "cell_type": "markdown",
      "metadata": {
        "id": "PEkKSpZlvJXA"
      },
      "source": [
        "Столбец «output shape» показывает, как изменяется размер вашей карты признаков в каждом следующем слое. Слои свертки немного уменьшают размер карт признаков из-за потерь на краях изображений, и каждый слой пуллинга сокращает размерности вдвое.\n",
        "\n",
        "Далее мы настроим спецификации для обучения модели. Мы будем тренировать нашу модель с функцией потерь `binary_crossentropy`, потому что это задача бинарной классификации, а наша последняя активация - сигмоида. (Для получения дополнительной информации о показателях потерь см. [Machine Learning Crash Course](https://developers.google.com/machine-learning/crash-course/descending-into-ml/video-lecture).) Мы будем использовать Оптимизатор `rmsprop` со скоростью обучения 0,001. Во время обучения мы хотим отслеживать точность классификации. ПРИМЕЧАНИЕ: в этом случае использование алгоритма оптимизации [RMSprop](https://wikipedia.org/wiki/Stochastic_gradient_descent#RMSProp)  предпочтительнее [stochastic gradient descent](https://developers.google.com/machine-learning/glossary/#SGD) (SGD), потому что RMSprop автоматически настраивает скорость обучения для нас. (другие оптимизаторы, такие как [Adam](https://wikipedia.org/wiki/Stochastic_gradient_descent#Adam) и [Adagrad](https://developers.google.com/machine-learning/glossary/#AdaGrad) также автоматически адаптируют скорость обучения во время обучения, и будут работать здесь так же хорошо.)"
      ]
    },
    {
      "cell_type": "code",
      "metadata": {
        "id": "8DHWhFP_uhq3"
      },
      "source": [
        "from tensorflow.keras.optimizers import RMSprop\n",
        "\n",
        "model.compile(loss='binary_crossentropy',\n",
        "              optimizer=RMSprop(lr=1e-4),\n",
        "              metrics=['acc'])"
      ],
      "execution_count": null,
      "outputs": []
    },
    {
      "cell_type": "markdown",
      "metadata": {
        "id": "Sn9m9D3UimHM"
      },
      "source": [
        "###Предварительная обработка данных\n",
        "Давайте настроим генераторы данных, которые будут читать изображения в наших исходных папках, преобразовывать их в тензоры `float32` и подавать их (с их метками) в нашу сеть. У нас будет один генератор для обучающих изображений и один для проверочных изображений. Наши генераторы будут выдавать партии изображений размером 150x150 и их метки (двоичные).\n",
        "\n",
        "Как вы уже знаете, данные, поступающие в нейронные сети, обычно должны каким-то образом нормализоваться, чтобы сделать их более пригодными для обработки сетью. В нашем случае мы будем предварительно обрабатывать наши изображения путем нормализации значений пикселей, чтобы они находились в диапазоне `[0, 1]` (изначально все значения находятся в дипазоне `[0, 255]`).\n",
        "\n",
        "В Keras это можно сделать с помощью класса `keras.preprocessing.image.ImageDataGenerator` с использованием параметра `rescale`. Этот класс `ImageDataGenerator` позволяет создавать экземпляры генераторов пакетов дополненных изображений (и их меток) с помощью `.flow(data, label` или `.flow_from_directory(dirname)`. Затем эти генераторы можно использовать с методами модели Keras, которые принимают генераторы данных в качестве входных данных: `fit_generator, evaluate_generator, и predict_generator`."
      ]
    },
    {
      "cell_type": "code",
      "metadata": {
        "id": "ClebU9NJg99G",
        "colab": {
          "base_uri": "https://localhost:8080/"
        },
        "outputId": "9287065c-8e92-4456-e177-4ec0cf5d4a46"
      },
      "source": [
        "from tensorflow.keras.preprocessing.image import ImageDataGenerator\n",
        "\n",
        "# Все пиксели изображения будут пересчитаны 1./255\n",
        "train_datagen = ImageDataGenerator(rescale=1./255,\n",
        "      rotation_range=40,\n",
        "      width_shift_range=0.2,\n",
        "      height_shift_range=0.2,\n",
        "      shear_range=0.2,\n",
        "      zoom_range=0.2,\n",
        "      horizontal_flip=True,\n",
        "      fill_mode='nearest')\n",
        "validation_datagen = ImageDataGenerator(rescale=1/255)\n",
        "\n",
        "# Поток обучающих изображений в партиях по 128 с использованием генератора train_datagen\n",
        "train_generator = train_datagen.flow_from_directory(\n",
        "        train_dir,  # Это исходный каталог для тренировочных изображений\n",
        "        target_size=(150, 150),  # все изображения будут изменены до 150x150\n",
        "        batch_size=20,\n",
        "        # поскольку мы используем функцию потерь binary_crossentropy, нам нужны двоичные метки\n",
        "        class_mode='binary')\n",
        "\n",
        "# Flow training images in batches of 128 using train_datagen generator\n",
        "validation_generator = validation_datagen.flow_from_directory(\n",
        "        validation_dir,  # Это исходный каталог для проверочных изображений\n",
        "        target_size=(150, 150),  # все изображения будут изменены до 150x150\n",
        "        batch_size=20,\n",
        "        # поскольку мы используем функцию потерь binary_crossentropy, нам нужны двоичные метки\n",
        "        class_mode='binary')"
      ],
      "execution_count": null,
      "outputs": [
        {
          "output_type": "stream",
          "text": [
            "Found 2000 images belonging to 2 classes.\n",
            "Found 1000 images belonging to 2 classes.\n"
          ],
          "name": "stdout"
        }
      ]
    },
    {
      "cell_type": "markdown",
      "metadata": {
        "id": "mu3Jdwkjwax4"
      },
      "source": [
        "### Тренировка\n",
        "Давайте потренируемся 15 эпох - это может занять несколько минут. Обратите внимание на значения в эпохе.\n",
        "\n",
        "`Loss и accuracy` являются отличными показателями прогресса обучения. Делается предположение о классификации обучающих данных, а затем оно сравнивается с известной меткой, вычисляя результат. `accuracy` - это доля правильных догадок."
      ]
    },
    {
      "cell_type": "code",
      "metadata": {
        "id": "Fb1_lgobv81m",
        "colab": {
          "base_uri": "https://localhost:8080/",
          "height": 1000
        },
        "outputId": "adba9da5-b141-45dd-8c68-b91e6f04ef72"
      },
      "source": [
        "history = model.fit_generator(\n",
        "      train_generator,\n",
        "      steps_per_epoch=50,  \n",
        "      epochs=100,\n",
        "      verbose=2,\n",
        "      validation_data = validation_generator,\n",
        "      validation_steps=50)\n",
        "acc      = history.history[     'acc' ]\n",
        "val_acc  = history.history[ 'val_acc' ]\n",
        "loss     = history.history[    'loss' ]\n",
        "val_loss = history.history['val_loss' ]\n",
        "epochs   = range(len(acc))\n",
        "plt.plot(epochs, acc, 'bo', label='Точность на обучении')\n",
        "plt.plot(epochs, val_acc, 'b', label='Точность на тестировании')\n",
        "plt.title('Точность на обучении и тестировании')\n",
        "plt.figure()\n",
        "plt.plot(epochs, loss, 'bo', label='Потери на обучении')\n",
        "plt.plot(epochs, val_loss, 'b', label='Потери на тестировании')\n",
        "plt.title('Потери на обучении и тестировании')\n",
        "plt.legend()\n",
        "plt.show()"
      ],
      "execution_count": null,
      "outputs": [
        {
          "output_type": "stream",
          "text": [
            "/usr/local/lib/python3.6/dist-packages/tensorflow/python/keras/engine/training.py:1844: UserWarning: `Model.fit_generator` is deprecated and will be removed in a future version. Please use `Model.fit`, which supports generators.\n",
            "  warnings.warn('`Model.fit_generator` is deprecated and '\n"
          ],
          "name": "stderr"
        },
        {
          "output_type": "stream",
          "text": [
            "Epoch 1/100\n",
            "50/50 - 9s - loss: 0.8409 - acc: 0.5970 - val_loss: 0.5701 - val_acc: 0.6980\n",
            "Epoch 2/100\n",
            "50/50 - 9s - loss: 0.6198 - acc: 0.6620 - val_loss: 0.5990 - val_acc: 0.6880\n",
            "Epoch 3/100\n",
            "50/50 - 9s - loss: 0.6257 - acc: 0.6670 - val_loss: 0.5420 - val_acc: 0.7340\n",
            "Epoch 4/100\n",
            "50/50 - 9s - loss: 0.6226 - acc: 0.6690 - val_loss: 0.5505 - val_acc: 0.7350\n",
            "Epoch 5/100\n",
            "50/50 - 9s - loss: 0.6041 - acc: 0.6840 - val_loss: 0.5747 - val_acc: 0.6720\n",
            "Epoch 6/100\n",
            "50/50 - 9s - loss: 0.6164 - acc: 0.6730 - val_loss: 0.5260 - val_acc: 0.7490\n",
            "Epoch 7/100\n",
            "50/50 - 9s - loss: 0.5976 - acc: 0.6760 - val_loss: 0.4971 - val_acc: 0.7640\n",
            "Epoch 8/100\n",
            "50/50 - 9s - loss: 0.5841 - acc: 0.6930 - val_loss: 0.5451 - val_acc: 0.7250\n",
            "Epoch 9/100\n",
            "50/50 - 9s - loss: 0.5895 - acc: 0.7150 - val_loss: 0.5034 - val_acc: 0.7460\n",
            "Epoch 10/100\n",
            "50/50 - 9s - loss: 0.5723 - acc: 0.6940 - val_loss: 0.5031 - val_acc: 0.7440\n",
            "Epoch 11/100\n",
            "50/50 - 9s - loss: 0.6110 - acc: 0.6960 - val_loss: 0.5116 - val_acc: 0.7290\n",
            "Epoch 12/100\n",
            "50/50 - 9s - loss: 0.5870 - acc: 0.7000 - val_loss: 0.5171 - val_acc: 0.7470\n",
            "Epoch 13/100\n",
            "50/50 - 9s - loss: 0.5680 - acc: 0.7270 - val_loss: 0.4921 - val_acc: 0.7570\n",
            "Epoch 14/100\n",
            "50/50 - 9s - loss: 0.6011 - acc: 0.6910 - val_loss: 0.5382 - val_acc: 0.7480\n",
            "Epoch 15/100\n",
            "50/50 - 9s - loss: 0.5673 - acc: 0.7040 - val_loss: 0.5934 - val_acc: 0.6930\n",
            "Epoch 16/100\n",
            "50/50 - 9s - loss: 0.5876 - acc: 0.6820 - val_loss: 0.4805 - val_acc: 0.7680\n",
            "Epoch 17/100\n",
            "50/50 - 9s - loss: 0.5670 - acc: 0.7060 - val_loss: 0.5717 - val_acc: 0.7170\n",
            "Epoch 18/100\n",
            "50/50 - 9s - loss: 0.5741 - acc: 0.7140 - val_loss: 0.5071 - val_acc: 0.7450\n",
            "Epoch 19/100\n",
            "50/50 - 9s - loss: 0.5935 - acc: 0.6950 - val_loss: 0.4763 - val_acc: 0.7730\n",
            "Epoch 20/100\n",
            "50/50 - 9s - loss: 0.5521 - acc: 0.7050 - val_loss: 0.5082 - val_acc: 0.7700\n",
            "Epoch 21/100\n",
            "50/50 - 9s - loss: 0.5951 - acc: 0.6890 - val_loss: 0.4820 - val_acc: 0.7710\n",
            "Epoch 22/100\n",
            "50/50 - 9s - loss: 0.5399 - acc: 0.7240 - val_loss: 0.5732 - val_acc: 0.7060\n",
            "Epoch 23/100\n",
            "50/50 - 9s - loss: 0.5489 - acc: 0.7140 - val_loss: 0.4651 - val_acc: 0.7900\n",
            "Epoch 24/100\n",
            "50/50 - 9s - loss: 0.5759 - acc: 0.7140 - val_loss: 0.4623 - val_acc: 0.7700\n",
            "Epoch 25/100\n",
            "50/50 - 9s - loss: 0.5741 - acc: 0.7140 - val_loss: 0.5047 - val_acc: 0.7520\n",
            "Epoch 26/100\n",
            "50/50 - 9s - loss: 0.5586 - acc: 0.7240 - val_loss: 0.4702 - val_acc: 0.7750\n",
            "Epoch 27/100\n",
            "50/50 - 9s - loss: 0.5538 - acc: 0.7420 - val_loss: 0.4908 - val_acc: 0.7700\n",
            "Epoch 28/100\n",
            "50/50 - 9s - loss: 0.5401 - acc: 0.7260 - val_loss: 0.5600 - val_acc: 0.7060\n",
            "Epoch 29/100\n",
            "50/50 - 9s - loss: 0.5403 - acc: 0.7370 - val_loss: 0.4621 - val_acc: 0.7920\n",
            "Epoch 30/100\n",
            "50/50 - 9s - loss: 0.5432 - acc: 0.7550 - val_loss: 0.4911 - val_acc: 0.7660\n",
            "Epoch 31/100\n",
            "50/50 - 9s - loss: 0.5486 - acc: 0.7390 - val_loss: 0.4615 - val_acc: 0.7780\n",
            "Epoch 32/100\n",
            "50/50 - 9s - loss: 0.5560 - acc: 0.7400 - val_loss: 0.4968 - val_acc: 0.7480\n",
            "Epoch 33/100\n",
            "50/50 - 9s - loss: 0.5315 - acc: 0.7440 - val_loss: 0.5008 - val_acc: 0.7610\n",
            "Epoch 34/100\n",
            "50/50 - 9s - loss: 0.5451 - acc: 0.7320 - val_loss: 0.4871 - val_acc: 0.7540\n",
            "Epoch 35/100\n",
            "50/50 - 9s - loss: 0.5433 - acc: 0.7350 - val_loss: 0.4790 - val_acc: 0.7720\n",
            "Epoch 36/100\n",
            "50/50 - 9s - loss: 0.5633 - acc: 0.7480 - val_loss: 0.4977 - val_acc: 0.7620\n",
            "Epoch 37/100\n",
            "50/50 - 9s - loss: 0.5313 - acc: 0.7470 - val_loss: 0.6505 - val_acc: 0.7040\n",
            "Epoch 38/100\n",
            "50/50 - 9s - loss: 0.5412 - acc: 0.7620 - val_loss: 0.5019 - val_acc: 0.7500\n",
            "Epoch 39/100\n",
            "50/50 - 9s - loss: 0.5340 - acc: 0.7560 - val_loss: 0.5520 - val_acc: 0.7350\n",
            "Epoch 40/100\n",
            "50/50 - 9s - loss: 0.5286 - acc: 0.7250 - val_loss: 0.6074 - val_acc: 0.7290\n",
            "Epoch 41/100\n",
            "50/50 - 9s - loss: 0.5489 - acc: 0.7300 - val_loss: 0.4976 - val_acc: 0.7470\n",
            "Epoch 42/100\n",
            "50/50 - 9s - loss: 0.5344 - acc: 0.7350 - val_loss: 0.4499 - val_acc: 0.8000\n",
            "Epoch 43/100\n",
            "50/50 - 9s - loss: 0.5333 - acc: 0.7350 - val_loss: 0.4721 - val_acc: 0.7880\n",
            "Epoch 44/100\n",
            "50/50 - 9s - loss: 0.5200 - acc: 0.7490 - val_loss: 0.5051 - val_acc: 0.7510\n",
            "Epoch 45/100\n",
            "50/50 - 9s - loss: 0.5235 - acc: 0.7450 - val_loss: 0.4765 - val_acc: 0.7690\n",
            "Epoch 46/100\n",
            "50/50 - 9s - loss: 0.5170 - acc: 0.7640 - val_loss: 0.5145 - val_acc: 0.7600\n",
            "Epoch 47/100\n",
            "50/50 - 9s - loss: 0.5176 - acc: 0.7500 - val_loss: 0.6073 - val_acc: 0.7570\n",
            "Epoch 48/100\n",
            "50/50 - 9s - loss: 0.5259 - acc: 0.7550 - val_loss: 0.4704 - val_acc: 0.7730\n",
            "Epoch 49/100\n",
            "50/50 - 9s - loss: 0.5339 - acc: 0.7380 - val_loss: 0.4724 - val_acc: 0.7810\n",
            "Epoch 50/100\n",
            "50/50 - 9s - loss: 0.5290 - acc: 0.7520 - val_loss: 0.4742 - val_acc: 0.7730\n",
            "Epoch 51/100\n",
            "50/50 - 9s - loss: 0.5532 - acc: 0.7120 - val_loss: 0.4864 - val_acc: 0.7830\n",
            "Epoch 52/100\n",
            "50/50 - 9s - loss: 0.5308 - acc: 0.7460 - val_loss: 0.5312 - val_acc: 0.7730\n",
            "Epoch 53/100\n",
            "50/50 - 9s - loss: 0.4944 - acc: 0.7760 - val_loss: 0.6767 - val_acc: 0.7650\n",
            "Epoch 54/100\n",
            "50/50 - 9s - loss: 0.5262 - acc: 0.7580 - val_loss: 0.5975 - val_acc: 0.7050\n",
            "Epoch 55/100\n",
            "50/50 - 9s - loss: 0.5097 - acc: 0.7560 - val_loss: 0.4899 - val_acc: 0.7870\n",
            "Epoch 56/100\n",
            "50/50 - 9s - loss: 0.5359 - acc: 0.7540 - val_loss: 0.4567 - val_acc: 0.7760\n",
            "Epoch 57/100\n",
            "50/50 - 9s - loss: 0.5158 - acc: 0.7470 - val_loss: 0.5217 - val_acc: 0.7820\n",
            "Epoch 58/100\n",
            "50/50 - 9s - loss: 0.4805 - acc: 0.7720 - val_loss: 0.4729 - val_acc: 0.8000\n",
            "Epoch 59/100\n",
            "50/50 - 9s - loss: 0.5456 - acc: 0.7410 - val_loss: 0.4732 - val_acc: 0.7720\n",
            "Epoch 60/100\n",
            "50/50 - 9s - loss: 0.5186 - acc: 0.7410 - val_loss: 0.4527 - val_acc: 0.8060\n",
            "Epoch 61/100\n",
            "50/50 - 9s - loss: 0.5114 - acc: 0.7490 - val_loss: 0.5932 - val_acc: 0.7710\n",
            "Epoch 62/100\n",
            "50/50 - 9s - loss: 0.5291 - acc: 0.7500 - val_loss: 0.5497 - val_acc: 0.7030\n",
            "Epoch 63/100\n",
            "50/50 - 9s - loss: 0.5196 - acc: 0.7460 - val_loss: 0.5333 - val_acc: 0.7820\n",
            "Epoch 64/100\n",
            "50/50 - 9s - loss: 0.5201 - acc: 0.7570 - val_loss: 0.4742 - val_acc: 0.7890\n",
            "Epoch 65/100\n",
            "50/50 - 9s - loss: 0.5266 - acc: 0.7330 - val_loss: 0.4890 - val_acc: 0.7570\n",
            "Epoch 66/100\n",
            "50/50 - 9s - loss: 0.5135 - acc: 0.7440 - val_loss: 0.4352 - val_acc: 0.7940\n",
            "Epoch 67/100\n",
            "50/50 - 9s - loss: 0.5106 - acc: 0.7500 - val_loss: 0.4744 - val_acc: 0.7740\n",
            "Epoch 68/100\n",
            "50/50 - 9s - loss: 0.4898 - acc: 0.7650 - val_loss: 0.4983 - val_acc: 0.7370\n",
            "Epoch 69/100\n",
            "50/50 - 9s - loss: 0.5007 - acc: 0.7600 - val_loss: 0.5779 - val_acc: 0.7600\n",
            "Epoch 70/100\n",
            "50/50 - 9s - loss: 0.4865 - acc: 0.7700 - val_loss: 0.4535 - val_acc: 0.7850\n",
            "Epoch 71/100\n",
            "50/50 - 9s - loss: 0.4912 - acc: 0.7570 - val_loss: 0.4610 - val_acc: 0.7790\n",
            "Epoch 72/100\n",
            "50/50 - 9s - loss: 0.5098 - acc: 0.7560 - val_loss: 0.6141 - val_acc: 0.7350\n",
            "Epoch 73/100\n",
            "50/50 - 9s - loss: 0.4927 - acc: 0.7730 - val_loss: 0.5363 - val_acc: 0.7480\n",
            "Epoch 74/100\n",
            "50/50 - 9s - loss: 0.5784 - acc: 0.7460 - val_loss: 0.4951 - val_acc: 0.7710\n",
            "Epoch 75/100\n",
            "50/50 - 9s - loss: 0.5127 - acc: 0.7610 - val_loss: 0.4640 - val_acc: 0.7880\n",
            "Epoch 76/100\n",
            "50/50 - 9s - loss: 0.5247 - acc: 0.7550 - val_loss: 0.4459 - val_acc: 0.7890\n",
            "Epoch 77/100\n",
            "50/50 - 9s - loss: 0.5238 - acc: 0.7680 - val_loss: 0.4902 - val_acc: 0.7550\n",
            "Epoch 78/100\n",
            "50/50 - 9s - loss: 0.5018 - acc: 0.7620 - val_loss: 0.4698 - val_acc: 0.7720\n",
            "Epoch 79/100\n",
            "50/50 - 9s - loss: 0.5304 - acc: 0.7520 - val_loss: 0.4913 - val_acc: 0.7620\n",
            "Epoch 80/100\n",
            "50/50 - 9s - loss: 0.5231 - acc: 0.7470 - val_loss: 0.4735 - val_acc: 0.7970\n",
            "Epoch 81/100\n",
            "50/50 - 9s - loss: 0.5295 - acc: 0.7500 - val_loss: 0.4424 - val_acc: 0.7930\n",
            "Epoch 82/100\n",
            "50/50 - 9s - loss: 0.5227 - acc: 0.7450 - val_loss: 0.5244 - val_acc: 0.7580\n",
            "Epoch 83/100\n",
            "50/50 - 9s - loss: 0.5170 - acc: 0.7540 - val_loss: 0.5010 - val_acc: 0.7630\n",
            "Epoch 84/100\n",
            "50/50 - 9s - loss: 0.5230 - acc: 0.7500 - val_loss: 0.5046 - val_acc: 0.7550\n",
            "Epoch 85/100\n",
            "50/50 - 9s - loss: 0.5007 - acc: 0.7790 - val_loss: 0.5742 - val_acc: 0.7780\n",
            "Epoch 86/100\n",
            "50/50 - 9s - loss: 0.5109 - acc: 0.7630 - val_loss: 0.4426 - val_acc: 0.7960\n",
            "Epoch 87/100\n",
            "50/50 - 9s - loss: 0.5265 - acc: 0.7550 - val_loss: 0.5026 - val_acc: 0.7310\n",
            "Epoch 88/100\n",
            "50/50 - 9s - loss: 0.5240 - acc: 0.7450 - val_loss: 0.4716 - val_acc: 0.7850\n",
            "Epoch 89/100\n",
            "50/50 - 9s - loss: 0.4928 - acc: 0.7760 - val_loss: 0.4594 - val_acc: 0.8030\n",
            "Epoch 90/100\n",
            "50/50 - 9s - loss: 0.4949 - acc: 0.7760 - val_loss: 0.4601 - val_acc: 0.7750\n",
            "Epoch 91/100\n",
            "50/50 - 9s - loss: 0.5175 - acc: 0.7350 - val_loss: 0.4720 - val_acc: 0.7820\n",
            "Epoch 92/100\n",
            "50/50 - 9s - loss: 0.4989 - acc: 0.7750 - val_loss: 0.4835 - val_acc: 0.7510\n",
            "Epoch 93/100\n",
            "50/50 - 9s - loss: 0.4630 - acc: 0.7810 - val_loss: 0.4410 - val_acc: 0.8020\n",
            "Epoch 94/100\n",
            "50/50 - 9s - loss: 0.4926 - acc: 0.7720 - val_loss: 0.5852 - val_acc: 0.7510\n",
            "Epoch 95/100\n",
            "50/50 - 9s - loss: 0.4775 - acc: 0.7710 - val_loss: 0.4536 - val_acc: 0.7920\n",
            "Epoch 96/100\n",
            "50/50 - 9s - loss: 0.4945 - acc: 0.7830 - val_loss: 0.5143 - val_acc: 0.7690\n",
            "Epoch 97/100\n",
            "50/50 - 9s - loss: 0.5345 - acc: 0.7330 - val_loss: 0.4580 - val_acc: 0.7880\n",
            "Epoch 98/100\n",
            "50/50 - 9s - loss: 0.5120 - acc: 0.7610 - val_loss: 0.5904 - val_acc: 0.7460\n",
            "Epoch 99/100\n",
            "50/50 - 9s - loss: 0.4912 - acc: 0.7880 - val_loss: 0.6008 - val_acc: 0.7320\n",
            "Epoch 100/100\n",
            "50/50 - 9s - loss: 0.5184 - acc: 0.7650 - val_loss: 0.4517 - val_acc: 0.7880\n"
          ],
          "name": "stdout"
        },
        {
          "output_type": "display_data",
          "data": {
            "image/png": "[encoded data removed]",
            "text/plain": [
              "<Figure size 432x288 with 1 Axes>"
            ]
          },
          "metadata": {
            "tags": [],
            "needs_background": "light"
          }
        },
        {
          "output_type": "display_data",
          "data": {
            "image/png": "[encoded data removed]",
            "text/plain": [
              "<Figure size 432x288 with 1 Axes>"
            ]
          },
          "metadata": {
            "tags": [],
            "needs_background": "light"
          }
        }
      ]
    },
    {
      "cell_type": "markdown",
      "metadata": {
        "id": "o6vSHzPR2ghH"
      },
      "source": [
        "###Запуск модели\n",
        "Давайте теперь посмотрим как на самом деле работает предсказание с использованием модели. Этот код позволит вам выбрать 1 или более файлов из вашей файловой системы, затем он загрузит их и проведет их через модель, указав, является ли объект лошадью или человеком."
      ]
    },
    {
      "cell_type": "code",
      "metadata": {
        "id": "DoWp43WxJDNT"
      },
      "source": [
        "import numpy as np\n",
        "from google.colab import files\n",
        "from keras.preprocessing import image\n",
        "\n",
        "uploaded = files.upload()\n",
        "\n",
        "for fn in uploaded.keys():\n",
        " \n",
        "  # Прогнозирование изображений\n",
        "  path = '/content/' + fn\n",
        "  img = image.load_img(path, target_size=(150, 150))\n",
        "  x = image.img_to_array(img)\n",
        "  x = np.expand_dims(x, axis=0)\n",
        "\n",
        "  images = np.vstack([x])\n",
        "  classes = model.predict(images, batch_size=10)\n",
        "  print(classes[0])\n",
        "  if classes[0]>0.5:\n",
        "    print(fn + \" is a human\")\n",
        "  else:\n",
        "    print(fn + \" is a horse\")\n",
        " "
      ],
      "execution_count": null,
      "outputs": []
    },
    {
      "cell_type": "markdown",
      "metadata": {
        "id": "-8EHQyWGDvWz"
      },
      "source": [
        "###Визуализация промежуточных представлений\n",
        "Чтобы понять, какие признаки выявил наш коннет, нужно сделать одну интересную вещь - визуализировать, как преобразуется вход при его прохождении через коннет.\n",
        "\n",
        "Давайте выберем случайное изображение из обучающего набора, а затем сгенерируем фигуру, где каждая строка является выходом слоя, а каждое изображение в строке является специальным фильтром в этой выходной карте объектов. Перезапустите эту ячейку, чтобы получить промежуточные представления для различных обучающих изображений."
      ]
    },
    {
      "cell_type": "code",
      "metadata": {
        "id": "-5tES8rXFjux"
      },
      "source": [
        "import numpy as np\n",
        "import random\n",
        "from tensorflow.keras.preprocessing.image import img_to_array, load_img\n",
        "\n",
        "train_horse_names = os.listdir(train_horse_dir)\n",
        "print(train_horse_names[:10])\n",
        "\n",
        "train_human_names = os.listdir(train_human_dir)\n",
        "\n",
        "# определим новую модель, которая будет принимать изображение в качестве ввода и выводить\n",
        "# промежуточные представления для всех слоев в  модели, начиная с первого.\n",
        "successive_outputs = [layer.output for layer in model.layers[1:]]\n",
        "\n",
        "visualization_model = tf.keras.models.Model(inputs = model.input, outputs = successive_outputs)\n",
        "# подготовим случайное входное изображение из тренировочного набора.\n",
        "horse_img_files = [os.path.join(train_horse_dir, f) for f in train_horse_names]\n",
        "human_img_files = [os.path.join(train_human_dir, f) for f in train_human_names]\n",
        "img_path = random.choice(horse_img_files + human_img_files)\n",
        "\n",
        "img = load_img(img_path, target_size=(150, 150)) \n",
        "x = img_to_array(img)  # Numpy array with shape (150, 150, 3)\n",
        "x = x.reshape((1,) + x.shape)  # Numpy array with shape (1, 150, 150, 3)\n",
        "\n",
        "# Масштабируем в 1/255\n",
        "x /= 255\n",
        "\n",
        "# пропустим наше изображение через нашу сеть, получив таким образом все\n",
        "# промежуточные представления для этого изображения.\n",
        "successive_feature_maps = visualization_model.predict(x)\n",
        "\n",
        "# Это названия слоев, поэтому они могут быть частью нашего чертежа.\n",
        "layer_names = [layer.name for layer in model.layers]\n",
        "\n",
        "# Теперь давайте покажем наши представления\n",
        "for layer_name, feature_map in zip(layer_names, successive_feature_maps):\n",
        "  if len(feature_map.shape) == 4:\n",
        "    # Просто делаем это для слоев conv / maxpool, а не для полностью связанных слоев\n",
        "    n_features = feature_map.shape[-1]  # Количество признаков на карте признаков\n",
        "    # Карта объектов имеет форму (1, size, size, n_features)\n",
        "    size = feature_map.shape[1]\n",
        "    # Мы разместим наши изображения в этой матрице\n",
        "    display_grid = np.zeros((size, size * n_features))\n",
        "    for i in range(n_features):\n",
        "      # Постобработка функции\n",
        "      x = feature_map[0, :, :, i]\n",
        "      x -= x.mean()\n",
        "      x /= x.std()\n",
        "      x *= 64\n",
        "      x += 128\n",
        "      x = np.clip(x, 0, 255).astype('uint8')\n",
        "      # поместим каждый фильтр в большую горизонтальную сетку\n",
        "      display_grid[:, i * size : (i + 1) * size] = x\n",
        "    # Показать сетку\n",
        "    scale = 20. / n_features\n",
        "    plt.figure(figsize=(scale * n_features, scale))\n",
        "    plt.title(layer_name)\n",
        "    plt.grid(False)\n",
        "    plt.imshow(display_grid, aspect='auto', cmap='viridis')"
      ],
      "execution_count": null,
      "outputs": []
    },
    {
      "cell_type": "markdown",
      "metadata": {
        "id": "tuqK2arJL0wo"
      },
      "source": [
        "Как вы можете видеть, мы переходим от необработанных пикселей изображений к все более абстрактным и компактным представлениям. Представления начинают выделять то, на что обращает внимание сеть, и они показывают, что все меньше и меньше признаков «активируются»; Большинство из них обнуляются. Это называется 'sparsity'. Разреженность представлений является ключевой особенностью глубокого обучения.\n",
        "\n",
        "Эти представления несут все меньше информации об исходных пикселях изображения, но все более уточняют информацию о классе изображения. Вы можете представлять себе convNet (или глубокую сеть в целом) как о канале дистилляции информации."
      ]
    },
    {
      "cell_type": "markdown",
      "metadata": {
        "id": "j4IBgYCYooGD"
      },
      "source": [
        "##Очистить\n",
        "Перед каждым выполнением упражнения запустите эту ячейку, чтобы завершить работу ядра и освободить ресурсы памяти:"
      ]
    },
    {
      "cell_type": "code",
      "metadata": {
        "id": "651IgjLyo-Jx"
      },
      "source": [
        "import os, signal\n",
        "os.kill(os.getpid(), signal.SIGKILL)"
      ],
      "execution_count": null,
      "outputs": []
    }
  ]
}