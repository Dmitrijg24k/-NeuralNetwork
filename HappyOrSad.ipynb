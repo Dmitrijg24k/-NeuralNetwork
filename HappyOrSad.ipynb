{
  "nbformat": 4,
  "nbformat_minor": 0,
  "metadata": {
    "colab": {
      "name": "Untitled1.ipynb",
      "provenance": [],
      "authorship_tag": "ABX9TyNE6T31a838l7MlzMHdO1gX",
      "include_colab_link": true
    },
    "kernelspec": {
      "name": "python3",
      "display_name": "Python 3"
    }
  },
  "cells": [
    {
      "cell_type": "markdown",
      "metadata": {
        "id": "view-in-github",
        "colab_type": "text"
      },
      "source": [
        "<a href=\"https://colab.research.google.com/github/Dmitrijg24k/-NeuralNetwork/blob/main/HappyOrSad.ipynb\" target=\"_parent\"><img src=\"https://colab.research.google.com/assets/colab-badge.svg\" alt=\"Open In Colab\"/></a>"
      ]
    },
    {
      "cell_type": "code",
      "metadata": {
        "colab": {
          "base_uri": "https://localhost:8080/"
        },
        "id": "Y8b7KC3MshBI",
        "outputId": "94272aa6-6a32-45c1-873d-cce896522d2a"
      },
      "source": [
        "import tensorflow as tf\r\n",
        "import os\r\n",
        "import zipfile\r\n",
        "#\r\n",
        "!wget --no-check-certificate \"https://storage.googleapis.com/laurencemoroney-blog.appspot.com/happy-or-sad.zip\" \\\r\n",
        "   -O \"/tmp/happy-or-sad.zip\"\r\n",
        "\r\n",
        "zip_ref = zipfile.ZipFile(\"/tmp/happy-or-sad.zip\", 'r')\r\n",
        "zip_ref.extractall(\"/tmp/h-or-s\")\r\n",
        "zip_ref.close()"
      ],
      "execution_count": 1,
      "outputs": [
        {
          "output_type": "stream",
          "text": [
            "--2021-02-06 18:54:59--  https://storage.googleapis.com/laurencemoroney-blog.appspot.com/happy-or-sad.zip\n",
            "Resolving storage.googleapis.com (storage.googleapis.com)... 173.194.215.128, 173.194.216.128, 173.194.217.128, ...\n",
            "Connecting to storage.googleapis.com (storage.googleapis.com)|173.194.215.128|:443... connected.\n",
            "HTTP request sent, awaiting response... 200 OK\n",
            "Length: 2670333 (2.5M) [application/zip]\n",
            "Saving to: ‘/tmp/happy-or-sad.zip’\n",
            "\n",
            "\r/tmp/happy-or-sad.z   0%[                    ]       0  --.-KB/s               \r/tmp/happy-or-sad.z 100%[===================>]   2.55M  --.-KB/s    in 0.02s   \n",
            "\n",
            "2021-02-06 18:55:00 (106 MB/s) - ‘/tmp/happy-or-sad.zip’ saved [2670333/2670333]\n",
            "\n"
          ],
          "name": "stdout"
        }
      ]
    },
    {
      "cell_type": "code",
      "metadata": {
        "id": "11_S4Hd66Lqd",
        "colab": {
          "base_uri": "https://localhost:8080/"
        },
        "outputId": "65502393-b0b5-4ac4-9c7b-8924a67a2de8"
      },
      "source": [
        "import os\n",
        "\n",
        "train_happy_dir = os.path.join('/tmp/h-or-s/happy')\n",
        "\n",
        "train_sad_dir = os.path.join('/tmp/h-or-s/sad')\n",
        "\n",
        "train_happy_names = os.listdir(train_happy_dir)\n",
        "print(train_happy_names[:10])\n",
        "\n",
        "train_sad_names = os.listdir(train_sad_dir)\n",
        "print(train_sad_names[:10])"
      ],
      "execution_count": 2,
      "outputs": [
        {
          "output_type": "stream",
          "text": [
            "['happy1-05.png', 'happy2-07.png', 'happy1-07.png', 'happy2-06.png', 'happy1-16.png', 'happy2-09.png', 'happy2-13.png', 'happy2-02.png', 'happy2-18.png', 'happy1-13.png']\n",
            "['sad2-09.png', 'sad1-08.png', 'sad1-00.png', 'sad2-07.png', 'sad2-10.png', 'sad2-17.png', 'sad2-13.png', 'sad2-11.png', 'sad2-08.png', 'sad1-05.png']\n"
          ],
          "name": "stdout"
        }
      ]
    },
    {
      "cell_type": "code",
      "metadata": {
        "id": "h3VIyhbRszrS"
      },
      "source": [
        "def train_happy_sad_model():\r\n",
        "\r\n",
        "    DESIRED_ACCURACY = 0.999\r\n",
        "\r\n",
        "    class myCallback(tf.keras.callbacks.Callback):\r\n",
        "      def on_epoch_end(self, epoch, logs={}):\r\n",
        "          if(logs.get('acc')>=DESIRED_ACCURACY):\r\n",
        "              print(\"Достигнута точность 99,9%, поэтому обучение закончено!\")\r\n",
        "              self.model.stop_training = True\r\n",
        "\r\n",
        "    callbacks = myCallback()\r\n",
        "    \r\n",
        "    # Этот блок кода должен задать и скомпилировать модель. Пожалуйста, имейте в виду, что размер изображений 150 X 150\r\n",
        "    model = tf.keras.models.Sequential([\r\n",
        "        tf.keras.layers.Conv2D(16, (3,3), activation='relu', input_shape=(150, 150, 3)),\r\n",
        "        tf.keras.layers.MaxPooling2D(2, 2),\r\n",
        "        tf.keras.layers.Conv2D(32, (3,3), activation='relu'),\r\n",
        "        tf.keras.layers.MaxPooling2D(2,2),\r\n",
        "        tf.keras.layers.Conv2D(64, (3,3), activation='relu'),\r\n",
        "        tf.keras.layers.MaxPooling2D(2,2),\r\n",
        "        tf.keras.layers.Flatten(),\r\n",
        "        tf.keras.layers.Dense(512, activation='relu'),\r\n",
        "        tf.keras.layers.Dense(1, activation='sigmoid')\r\n",
        "    ])\r\n",
        "\r\n",
        "    from tensorflow.keras.optimizers import RMSprop\r\n",
        "\r\n",
        "    model.compile(loss='binary_crossentropy', optimizer=RMSprop(lr=0.001), metrics=['acc'])\r\n",
        "        \r\n",
        "\r\n",
        "     # Этот блок кода должен создать экземпляр ImageDataGenerator с именем train_datagen\r\n",
        "      # и train_generator, вызовом train_datagen.flow_from_directory\r\n",
        "\r\n",
        "    from tensorflow.keras.preprocessing.image import ImageDataGenerator\r\n",
        "\r\n",
        "    train_datagen = ImageDataGenerator(rescale=1/255)\r\n",
        "    validation_datagen = ImageDataGenerator(rescale=1/255)\r\n",
        "    # Используйте target_size  150 X 150.\r\n",
        "    train_generator = train_datagen.flow_from_directory(\r\n",
        "        '/tmp/h-or-s/', \r\n",
        "        target_size=(150, 150),  \r\n",
        "        batch_size=128,\r\n",
        "        class_mode='binary'\r\n",
        "    )\r\n",
        "\r\n",
        "    history= model.fit(train_generator, epochs=25, callbacks=[callbacks])\r\n",
        "    # model fitting\r\n",
        "    return history.history['acc'][-1]"
      ],
      "execution_count": 16,
      "outputs": []
    },
    {
      "cell_type": "code",
      "metadata": {
        "colab": {
          "base_uri": "https://localhost:8080/"
        },
        "id": "zoaXOLmzv_yd",
        "outputId": "be5d1795-a0bf-4933-a5b8-3820aae34dcc"
      },
      "source": [
        "train_happy_sad_model()"
      ],
      "execution_count": 18,
      "outputs": [
        {
          "output_type": "stream",
          "text": [
            "Found 80 images belonging to 2 classes.\n",
            "Epoch 1/25\n",
            "1/1 [==============================] - 2s 2s/step - loss: 0.6931 - acc: 0.5000\n",
            "Epoch 2/25\n",
            "1/1 [==============================] - 2s 2s/step - loss: 8.5674 - acc: 0.5000\n",
            "Epoch 3/25\n",
            "1/1 [==============================] - 2s 2s/step - loss: 2.1380 - acc: 0.5000\n",
            "Epoch 4/25\n",
            "1/1 [==============================] - 2s 2s/step - loss: 0.6931 - acc: 0.5000\n",
            "Epoch 5/25\n",
            "1/1 [==============================] - 2s 2s/step - loss: 0.6657 - acc: 0.5000\n",
            "Epoch 6/25\n",
            "1/1 [==============================] - 2s 2s/step - loss: 0.6678 - acc: 0.5000\n",
            "Epoch 7/25\n",
            "1/1 [==============================] - 2s 2s/step - loss: 0.6352 - acc: 0.5000\n",
            "Epoch 8/25\n",
            "1/1 [==============================] - 2s 2s/step - loss: 0.6227 - acc: 0.5000\n",
            "Epoch 9/25\n",
            "1/1 [==============================] - 2s 2s/step - loss: 0.5357 - acc: 0.6625\n",
            "Epoch 10/25\n",
            "1/1 [==============================] - 2s 2s/step - loss: 0.4976 - acc: 0.8875\n",
            "Epoch 11/25\n",
            "1/1 [==============================] - 2s 2s/step - loss: 0.4478 - acc: 0.7500\n",
            "Epoch 12/25\n",
            "1/1 [==============================] - 2s 2s/step - loss: 0.6311 - acc: 0.5000\n",
            "Epoch 13/25\n",
            "1/1 [==============================] - 2s 2s/step - loss: 0.4933 - acc: 0.6750\n",
            "Epoch 14/25\n",
            "1/1 [==============================] - 2s 2s/step - loss: 0.3366 - acc: 0.9125\n",
            "Epoch 15/25\n",
            "1/1 [==============================] - 2s 2s/step - loss: 0.3036 - acc: 0.7500\n",
            "Epoch 16/25\n",
            "1/1 [==============================] - 2s 2s/step - loss: 0.2702 - acc: 0.9125\n",
            "Epoch 17/25\n",
            "1/1 [==============================] - 2s 2s/step - loss: 0.2588 - acc: 0.9000\n",
            "Epoch 18/25\n",
            "1/1 [==============================] - 2s 2s/step - loss: 0.1494 - acc: 0.9375\n",
            "Epoch 19/25\n",
            "1/1 [==============================] - 2s 2s/step - loss: 0.1351 - acc: 0.9750\n",
            "Epoch 20/25\n",
            "1/1 [==============================] - 2s 2s/step - loss: 0.1439 - acc: 0.9375\n",
            "Epoch 21/25\n",
            "1/1 [==============================] - 2s 2s/step - loss: 0.1137 - acc: 1.0000\n",
            "Достигнута точность 99,9%, поэтому обучение закончено!\n"
          ],
          "name": "stdout"
        },
        {
          "output_type": "execute_result",
          "data": {
            "text/plain": [
              "1.0"
            ]
          },
          "metadata": {
            "tags": []
          },
          "execution_count": 18
        }
      ]
    }
  ]
}